{
 "cells": [
  {
   "cell_type": "code",
   "execution_count": 217,
   "metadata": {
    "collapsed": true
   },
   "outputs": [],
   "source": [
    "import time\n",
    "import re\n",
    "from bs4 import BeautifulSoup\n",
    "from selenium import webdriver"
   ]
  },
  {
   "cell_type": "code",
   "execution_count": 218,
   "metadata": {
    "collapsed": true
   },
   "outputs": [],
   "source": [
    "def login(username, password, url, headless=False):\n",
    "    time_start = time.time()\n",
    "    # Headless mode. True = hide browser\n",
    "    if headless:\n",
    "        option = webdriver.ChromeOptions()\n",
    "        option.add_argument('headless')\n",
    "        driver = webdriver.Chrome(chrome_options=option)\n",
    "    else:\n",
    "        driver = webdriver.Chrome()\n",
    "    \n",
    "    driver.get(url)\n",
    "    \n",
    "    # Selenium find input elements by Xpath\n",
    "    time.sleep(1)\n",
    "    driver.find_element_by_xpath(\"//div[@tyc-event-ch='Login.PasswordLogin']\").click()\n",
    "    driver.find_elements_by_xpath(\"//input[@placeholder='请输入11位手机号码']\")[-2].send_keys(username)\n",
    "    driver.find_element_by_xpath(\"//input[@placeholder='请输入登录密码']\").send_keys(password)\n",
    "    \n",
    "    driver.execute_script(\"window.scrollTo(0, 60);\")\n",
    "    driver.find_element_by_xpath(\"//div[@tyc-event-ch='Login.PasswordLogin.Login']\").click()\n",
    "    \n",
    "    time_end = time.time()\n",
    "    print('Login time: {} second(s)'.format(int(time_end - time_start)))\n",
    "    return driver  \n",
    "                "
   ]
  },
  {
   "cell_type": "code",
   "execution_count": 219,
   "metadata": {},
   "outputs": [
    {
     "name": "stdout",
     "output_type": "stream",
     "text": [
      "Login time: 4 second(s)\n"
     ]
    }
   ],
   "source": [
    "url = 'https://www.tianyancha.com/login'\n",
    "driver = login('username','password', url)"
   ]
  },
  {
   "cell_type": "code",
   "execution_count": 228,
   "metadata": {
    "collapsed": true
   },
   "outputs": [],
   "source": [
    "# Search by company\n",
    "def search_company(driver, url1):\n",
    "    driver.get(url1)\n",
    "    time.sleep(1)\n",
    "    content = driver.page_source.encode('utf-8')\n",
    "    soup = BeautifulSoup(content, 'lxml')\n",
    "\n",
    "    url2 = soup.find('div', class_='header').find('a').attrs['href']\n",
    "    print('Successfully get the company page url.')\n",
    "\n",
    "    driver.get(url2)\n",
    "    return driver"
   ]
  },
  {
   "cell_type": "code",
   "execution_count": 250,
   "metadata": {},
   "outputs": [
    {
     "name": "stdout",
     "output_type": "stream",
     "text": [
      "Successfully get the company page url.\n"
     ]
    }
   ],
   "source": [
    "keyword='广州恒大足球'\n",
    "url_search = 'http://www.tianyancha.com/search?key=%s&checkFrom=searchBox' % keyword\n",
    "driver = search_company(driver, url_search)"
   ]
  },
  {
   "cell_type": "code",
   "execution_count": 251,
   "metadata": {},
   "outputs": [],
   "source": [
    "def scraper(driver):\n",
    "\n",
    "    content = driver.page_source.encode('utf-8')\n",
    "    soup = BeautifulSoup(content, 'lxml')\n",
    "    \n",
    "    # Output dictionary\n",
    "    comp_info={}\n",
    "    \n",
    "    comp_info['公司名称'] = soup.find('div', ['header']).find('h1',['name']).string\n",
    "    print('公司名称：', comp_info['公司名称'])\n",
    "    \n",
    "    containers = soup.findAll('div', id=re.compile('^_container_'))\n",
    "    # print(soup.prettify())\n",
    "    \n",
    "    # Containers\n",
    "    cs = {}\n",
    "    for container in containers:\n",
    "\n",
    "        container_id = container.attrs['id'].replace('_container_','')\n",
    "        #print(container_id)\n",
    "        cs[container_id]= container\n",
    "    \n",
    "    # Get base info\n",
    "    if 'baseInfo' in cs:\n",
    "        comp_info['法定代表人'] = cs['baseInfo'].find('div', ['humancompany']).find('div', ['name']).find('a').string\n",
    "        print('法定代表人：', comp_info['法定代表人'])\n",
    "        \n",
    "        comp_info['注册资本'] = cs['baseInfo'].findAll('tr')[4].findAll('td')[1].find('div').get('title')\n",
    "        print('注册资本：', comp_info['注册资本'])\n",
    "        \n",
    "        comp_info['登记地区'] = cs['baseInfo'].findAll('tr')[11].findAll('td')[3].string.split('市')[0]+'市'\n",
    "        print('登记地区：', comp_info['登记地区'])\n",
    "        \n",
    "        #print(cs['baseInfo'].prettify())\n",
    "\n",
    "    # Get senior management staff\n",
    "    comp_info['主要人员']=[]\n",
    "    if 'staff' in cs:\n",
    "        staff_lst = cs['staff'].findAll(attrs={\"event-name\": \"企业详情-主要人员\"})\n",
    "        for s in staff_lst:\n",
    "            comp_info['主要人员'].append(s.string)\n",
    "        print('主要人员：', comp_info['主要人员'])\n",
    "        #print(cs['staff'].prettify())\n",
    "    \n",
    "    #driver.quit()\n",
    "    \n",
    "    return comp_info"
   ]
  },
  {
   "cell_type": "code",
   "execution_count": 252,
   "metadata": {},
   "outputs": [
    {
     "name": "stdout",
     "output_type": "stream",
     "text": [
      "公司名称： 广州恒大淘宝足球俱乐部股份有限公司\n",
      "法定代表人： 高寒\n",
      "注册资本： 39673.4万人民币\n",
      "登记地区： 广州市\n",
      "主要人员： ['高寒', '陈亮', '王帅', '尹雷', '张大钟', '史俊平', '吴泳铭', '姜夫']\n"
     ]
    }
   ],
   "source": [
    "comp_info = scraper(driver)"
   ]
  },
  {
   "cell_type": "code",
   "execution_count": null,
   "metadata": {
    "collapsed": true
   },
   "outputs": [],
   "source": []
  }
 ],
 "metadata": {
  "kernelspec": {
   "display_name": "Python SPD3",
   "language": "python",
   "name": "spd3"
  },
  "language_info": {
   "codemirror_mode": {
    "name": "ipython",
    "version": 3
   },
   "file_extension": ".py",
   "mimetype": "text/x-python",
   "name": "python",
   "nbconvert_exporter": "python",
   "pygments_lexer": "ipython3",
   "version": "3.6.2"
  }
 },
 "nbformat": 4,
 "nbformat_minor": 2
}
